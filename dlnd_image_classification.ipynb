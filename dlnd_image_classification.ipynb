{
 "cells": [
  {
   "cell_type": "markdown",
   "metadata": {
    "collapsed": true
   },
   "source": [
    "# Image Classification\n",
    "In this project, you'll classify images from the [CIFAR-10 dataset](https://www.cs.toronto.edu/~kriz/cifar.html).  The dataset consists of airplanes, dogs, cats, and other objects. You'll preprocess the images, then train a convolutional neural network on all the samples. The images need to be normalized and the labels need to be one-hot encoded.  You'll get to apply what you learned and build a convolutional, max pooling, dropout, and fully connected layers.  At the end, you'll get to see your neural network's predictions on the sample images.\n",
    "## Get the Data\n",
    "Run the following cell to download the [CIFAR-10 dataset for python](https://www.cs.toronto.edu/~kriz/cifar-10-python.tar.gz)."
   ]
  },
  {
   "cell_type": "code",
   "execution_count": 43,
   "metadata": {},
   "outputs": [
    {
     "name": "stdout",
     "output_type": "stream",
     "text": [
      "All files found!\n"
     ]
    }
   ],
   "source": [
    "\"\"\"\n",
    "DON'T MODIFY ANYTHING IN THIS CELL THAT IS BELOW THIS LINE\n",
    "\"\"\"\n",
    "from urllib.request import urlretrieve\n",
    "from os.path import isfile, isdir\n",
    "from tqdm import tqdm\n",
    "import problem_unittests as tests\n",
    "import tarfile\n",
    "\n",
    "cifar10_dataset_folder_path = 'cifar-10-batches-py'\n",
    "\n",
    "# Use Floyd's cifar-10 dataset if present\n",
    "floyd_cifar10_location = '/cifar/cifar-10-python.tar.gz'\n",
    "if isfile(floyd_cifar10_location):\n",
    "    tar_gz_path = floyd_cifar10_location\n",
    "else:\n",
    "    tar_gz_path = 'cifar-10-python.tar.gz'\n",
    "\n",
    "class DLProgress(tqdm):\n",
    "    last_block = 0\n",
    "\n",
    "    def hook(self, block_num=1, block_size=1, total_size=None):\n",
    "        self.total = total_size\n",
    "        self.update((block_num - self.last_block) * block_size)\n",
    "        self.last_block = block_num\n",
    "\n",
    "if not isfile(tar_gz_path):\n",
    "    with DLProgress(unit='B', unit_scale=True, miniters=1, desc='CIFAR-10 Dataset') as pbar:\n",
    "        urlretrieve(\n",
    "            'https://www.cs.toronto.edu/~kriz/cifar-10-python.tar.gz',\n",
    "            tar_gz_path,\n",
    "            pbar.hook)\n",
    "\n",
    "if not isdir(cifar10_dataset_folder_path):\n",
    "    with tarfile.open(tar_gz_path) as tar:\n",
    "        tar.extractall()\n",
    "        tar.close()\n",
    "\n",
    "\n",
    "tests.test_folder_path(cifar10_dataset_folder_path)"
   ]
  },
  {
   "cell_type": "markdown",
   "metadata": {},
   "source": [
    "## Explore the Data\n",
    "The dataset is broken into batches to prevent your machine from running out of memory.  The CIFAR-10 dataset consists of 5 batches, named `data_batch_1`, `data_batch_2`, etc.. Each batch contains the labels and images that are one of the following:\n",
    "* airplane\n",
    "* automobile\n",
    "* bird\n",
    "* cat\n",
    "* deer\n",
    "* dog\n",
    "* frog\n",
    "* horse\n",
    "* ship\n",
    "* truck\n",
    "\n",
    "Understanding a dataset is part of making predictions on the data.  Play around with the code cell below by changing the `batch_id` and `sample_id`. The `batch_id` is the id for a batch (1-5). The `sample_id` is the id for a image and label pair in the batch.\n",
    "\n",
    "Ask yourself \"What are all possible labels?\", \"What is the range of values for the image data?\", \"Are the labels in order or random?\".  Answers to questions like these will help you preprocess the data and end up with better predictions."
   ]
  },
  {
   "cell_type": "code",
   "execution_count": 27,
   "metadata": {},
   "outputs": [
    {
     "name": "stdout",
     "output_type": "stream",
     "text": [
      "\n",
      "Stats of batch 1:\n",
      "Samples: 10000\n",
      "Label Counts: {0: 1005, 1: 974, 2: 1032, 3: 1016, 4: 999, 5: 937, 6: 1030, 7: 1001, 8: 1025, 9: 981}\n",
      "First 20 Labels: [6, 9, 9, 4, 1, 1, 2, 7, 8, 3, 4, 7, 7, 2, 9, 9, 9, 3, 2, 6]\n",
      "\n",
      "Example of Image 99:\n",
      "Image - Min Value: 0 Max Value: 255\n",
      "Image - Shape: (32, 32, 3)\n",
      "Label - Label Id: 1 Name: automobile\n"
     ]
    },
    {
     "data": {
      "image/png": "[encoded data removed]",
      "text/plain": [
       "<matplotlib.figure.Figure at 0x1ac8a7b7a58>"
      ]
     },
     "metadata": {
      "image/png": {
       "height": 250,
       "width": 253
      }
     },
     "output_type": "display_data"
    }
   ],
   "source": [
    "%matplotlib inline\n",
    "%config InlineBackend.figure_format = 'retina'\n",
    "\n",
    "import helper\n",
    "import numpy as np\n",
    "\n",
    "# Explore the dataset\n",
    "batch_id = 1\n",
    "sample_id = 99\n",
    "helper.display_stats(cifar10_dataset_folder_path, batch_id, sample_id)"
   ]
  },
  {
   "cell_type": "markdown",
   "metadata": {},
   "source": [
    "## Implement Preprocess Functions\n",
    "### Normalize\n",
    "In the cell below, implement the `normalize` function to take in image data, `x`, and return it as a normalized Numpy array. The values should be in the range of 0 to 1, inclusive.  The return object should be the same shape as `x`."
   ]
  },
  {
   "cell_type": "code",
   "execution_count": 29,
   "metadata": {},
   "outputs": [
    {
     "name": "stdout",
     "output_type": "stream",
     "text": [
      "Tests Passed\n"
     ]
    }
   ],
   "source": [
    "def normalize(x):\n",
    "    \"\"\"\n",
    "    Normalize a list of sample image data in the range of 0 to 1\n",
    "    : x: List of image data.  The image shape is (32, 32, 3)\n",
    "    : return: Numpy array of normalize data\n",
    "    \"\"\"\n",
    "    # TODO: Implement Function\n",
    "    return x / 255.00\n",
    "\n",
    "\n",
    "\"\"\"\n",
    "DON'T MODIFY ANYTHING IN THIS CELL THAT IS BELOW THIS LINE\n",
    "\"\"\"\n",
    "tests.test_normalize(normalize)"
   ]
  },
  {
   "cell_type": "markdown",
   "metadata": {},
   "source": [
    "### One-hot encode\n",
    "Just like the previous code cell, you'll be implementing a function for preprocessing.  This time, you'll implement the `one_hot_encode` function. The input, `x`, are a list of labels.  Implement the function to return the list of labels as One-Hot encoded Numpy array.  The possible values for labels are 0 to 9. The one-hot encoding function should return the same encoding for each value between each call to `one_hot_encode`.  Make sure to save the map of encodings outside the function.\n",
    "\n",
    "Hint: Don't reinvent the wheel."
   ]
  },
  {
   "cell_type": "code",
   "execution_count": 35,
   "metadata": {},
   "outputs": [
    {
     "name": "stdout",
     "output_type": "stream",
     "text": [
      "Tests Passed\n"
     ]
    }
   ],
   "source": [
    "def one_hot_encode(x):\n",
    "    \"\"\"\n",
    "    One hot encode a list of sample labels. Return a one-hot encoded vector for each label.\n",
    "    : x: List of sample Labels\n",
    "    : return: Numpy array of one-hot encoded labels\n",
    "    \"\"\"\n",
    "    # TODO: Implement Function\n",
    "    return np.eye( 10 )[ x ]\n",
    "\n",
    "\n",
    "\"\"\"\n",
    "DON'T MODIFY ANYTHING IN THIS CELL THAT IS BELOW THIS LINE\n",
    "\"\"\"\n",
    "tests.test_one_hot_encode(one_hot_encode)"
   ]
  },
  {
   "cell_type": "markdown",
   "metadata": {},
   "source": [
    "### Randomize Data\n",
    "As you saw from exploring the data above, the order of the samples are randomized.  It doesn't hurt to randomize it again, but you don't need to for this dataset."
   ]
  },
  {
   "cell_type": "markdown",
   "metadata": {},
   "source": [
    "## Preprocess all the data and save it\n",
    "Running the code cell below will preprocess all the CIFAR-10 data and save it to file. The code below also uses 10% of the training data for validation."
   ]
  },
  {
   "cell_type": "code",
   "execution_count": 31,
   "metadata": {
    "collapsed": true
   },
   "outputs": [],
   "source": [
    "\"\"\"\n",
    "DON'T MODIFY ANYTHING IN THIS CELL\n",
    "\"\"\"\n",
    "# Preprocess Training, Validation, and Testing Data\n",
    "helper.preprocess_and_save_data(cifar10_dataset_folder_path, normalize, one_hot_encode)"
   ]
  },
  {
   "cell_type": "markdown",
   "metadata": {},
   "source": [
    "# Check Point\n",
    "This is your first checkpoint.  If you ever decide to come back to this notebook or have to restart the notebook, you can start from here.  The preprocessed data has been saved to disk."
   ]
  },
  {
   "cell_type": "code",
   "execution_count": 32,
   "metadata": {
    "collapsed": true
   },
   "outputs": [],
   "source": [
    "\"\"\"\n",
    "DON'T MODIFY ANYTHING IN THIS CELL\n",
    "\"\"\"\n",
    "import pickle\n",
    "import problem_unittests as tests\n",
    "import helper\n",
    "\n",
    "# Load the Preprocessed Validation data\n",
    "valid_features, valid_labels = pickle.load(open('preprocess_validation.p', mode='rb'))"
   ]
  },
  {
   "cell_type": "markdown",
   "metadata": {},
   "source": [
    "## Build the network\n",
    "For the neural network, you'll build each layer into a function.  Most of the code you've seen has been outside of functions. To test your code more thoroughly, we require that you put each layer in a function.  This allows us to give you better feedback and test for simple mistakes using our unittests before you submit your project.\n",
    "\n",
    ">**Note:** If you're finding it hard to dedicate enough time for this course each week, we've provided a small shortcut to this part of the project. In the next couple of problems, you'll have the option to use classes from the [TensorFlow Layers](https://www.tensorflow.org/api_docs/python/tf/layers) or [TensorFlow Layers (contrib)](https://www.tensorflow.org/api_guides/python/contrib.layers) packages to build each layer, except the layers you build in the \"Convolutional and Max Pooling Layer\" section.  TF Layers is similar to Keras's and TFLearn's abstraction to layers, so it's easy to pickup.\n",
    "\n",
    ">However, if you would like to get the most out of this course, try to solve all the problems _without_ using anything from the TF Layers packages. You **can** still use classes from other packages that happen to have the same name as ones you find in TF Layers! For example, instead of using the TF Layers version of the `conv2d` class, [tf.layers.conv2d](https://www.tensorflow.org/api_docs/python/tf/layers/conv2d), you would want to use the TF Neural Network version of `conv2d`, [tf.nn.conv2d](https://www.tensorflow.org/api_docs/python/tf/nn/conv2d). \n",
    "\n",
    "Let's begin!\n",
    "\n",
    "### Input\n",
    "The neural network needs to read the image data, one-hot encoded labels, and dropout keep probability. Implement the following functions\n",
    "* Implement `neural_net_image_input`\n",
    " * Return a [TF Placeholder](https://www.tensorflow.org/api_docs/python/tf/placeholder)\n",
    " * Set the shape using `image_shape` with batch size set to `None`.\n",
    " * Name the TensorFlow placeholder \"x\" using the TensorFlow `name` parameter in the [TF Placeholder](https://www.tensorflow.org/api_docs/python/tf/placeholder).\n",
    "* Implement `neural_net_label_input`\n",
    " * Return a [TF Placeholder](https://www.tensorflow.org/api_docs/python/tf/placeholder)\n",
    " * Set the shape using `n_classes` with batch size set to `None`.\n",
    " * Name the TensorFlow placeholder \"y\" using the TensorFlow `name` parameter in the [TF Placeholder](https://www.tensorflow.org/api_docs/python/tf/placeholder).\n",
    "* Implement `neural_net_keep_prob_input`\n",
    " * Return a [TF Placeholder](https://www.tensorflow.org/api_docs/python/tf/placeholder) for dropout keep probability.\n",
    " * Name the TensorFlow placeholder \"keep_prob\" using the TensorFlow `name` parameter in the [TF Placeholder](https://www.tensorflow.org/api_docs/python/tf/placeholder).\n",
    "\n",
    "These names will be used at the end of the project to load your saved model.\n",
    "\n",
    "Note: `None` for shapes in TensorFlow allow for a dynamic size."
   ]
  },
  {
   "cell_type": "code",
   "execution_count": 34,
   "metadata": {},
   "outputs": [
    {
     "name": "stdout",
     "output_type": "stream",
     "text": [
      "Image Input Tests Passed.\n",
      "Label Input Tests Passed.\n",
      "Keep Prob Tests Passed.\n"
     ]
    }
   ],
   "source": [
    "import tensorflow as tf\n",
    "\n",
    "def neural_net_image_input(image_shape):\n",
    "    \"\"\"\n",
    "    Return a Tensor for a batch of image input\n",
    "    : image_shape: Shape of the images\n",
    "    : return: Tensor for image input.\n",
    "    \"\"\"\n",
    "    # TODO: Implement Function\n",
    "    return tf.placeholder( dtype=tf.float32, shape=[ None, *image_shape ], name=\"x\" )\n",
    "\n",
    "\n",
    "def neural_net_label_input(n_classes):\n",
    "    \"\"\"\n",
    "    Return a Tensor for a batch of label input\n",
    "    : n_classes: Number of classes\n",
    "    : return: Tensor for label input.\n",
    "    \"\"\"\n",
    "    # TODO: Implement Function\n",
    "    return tf.placeholder( dtype=tf.float32, shape=[ None, n_classes ], name=\"y\" )\n",
    "\n",
    "\n",
    "def neural_net_keep_prob_input():\n",
    "    \"\"\"\n",
    "    Return a Tensor for keep probability\n",
    "    : return: Tensor for keep probability.\n",
    "    \"\"\"\n",
    "    # TODO: Implement Function\n",
    "    return tf.placeholder( dtype=tf.float32, name=\"keep_prob\" )\n",
    "\n",
    "\n",
    "\"\"\"\n",
    "DON'T MODIFY ANYTHING IN THIS CELL THAT IS BELOW THIS LINE\n",
    "\"\"\"\n",
    "tf.reset_default_graph()\n",
    "tests.test_nn_image_inputs(neural_net_image_input)\n",
    "tests.test_nn_label_inputs(neural_net_label_input)\n",
    "tests.test_nn_keep_prob_inputs(neural_net_keep_prob_input)"
   ]
  },
  {
   "cell_type": "markdown",
   "metadata": {},
   "source": [
    "### Convolution and Max Pooling Layer\n",
    "Convolution layers have a lot of success with images. For this code cell, you should implement the function `conv2d_maxpool` to apply convolution then max pooling:\n",
    "* Create the weight and bias using `conv_ksize`, `conv_num_outputs` and the shape of `x_tensor`.\n",
    "* Apply a convolution to `x_tensor` using weight and `conv_strides`.\n",
    " * We recommend you use same padding, but you're welcome to use any padding.\n",
    "* Add bias\n",
    "* Add a nonlinear activation to the convolution.\n",
    "* Apply Max Pooling using `pool_ksize` and `pool_strides`.\n",
    " * We recommend you use same padding, but you're welcome to use any padding.\n",
    "\n",
    "**Note:** You **can't** use [TensorFlow Layers](https://www.tensorflow.org/api_docs/python/tf/layers) or [TensorFlow Layers (contrib)](https://www.tensorflow.org/api_guides/python/contrib.layers) for **this** layer, but you can still use TensorFlow's [Neural Network](https://www.tensorflow.org/api_docs/python/tf/nn) package. You may still use the shortcut option for all the **other** layers."
   ]
  },
  {
   "cell_type": "code",
   "execution_count": 36,
   "metadata": {},
   "outputs": [
    {
     "name": "stdout",
     "output_type": "stream",
     "text": [
      "Tests Passed\n"
     ]
    }
   ],
   "source": [
    "def conv2d_maxpool(x_tensor, conv_num_outputs, conv_ksize, conv_strides, pool_ksize, pool_strides):\n",
    "    \"\"\"\n",
    "    Apply convolution then max pooling to x_tensor\n",
    "    :param x_tensor: TensorFlow Tensor\n",
    "    :param conv_num_outputs: Number of outputs for the convolutional layer\n",
    "    :param conv_ksize: kernal size 2-D Tuple for the convolutional layer\n",
    "    :param conv_strides: Stride 2-D Tuple for convolution\n",
    "    :param pool_ksize: kernal size 2-D Tuple for pool\n",
    "    :param pool_strides: Stride 2-D Tuple for pool\n",
    "    : return: A tensor that represents convolution and max pooling of x_tensor\n",
    "    \"\"\"\n",
    "    shape = x_tensor.shape[3].value\n",
    "    weights = tf.Variable(tf.truncated_normal( [ conv_ksize[ 0 ], conv_ksize[ 1 ], shape, conv_num_outputs], stddev=0.05 ) )\n",
    "    bias = tf.Variable( tf.zeros( [ conv_num_outputs ] ) )\n",
    "    \n",
    "    output = tf.nn.conv2d( x_tensor, weights, [ 1, *conv_strides, 1 ], padding='SAME' )\n",
    "    \n",
    "    activation = tf.nn.relu( tf.nn.bias_add( output, bias ) )\n",
    "    \n",
    "    pool_stride = [ 1, *pool_strides, 1 ]\n",
    "    \n",
    "    return tf.nn.max_pool( activation, [ 1, *pool_ksize, 1 ], pool_stride, padding='SAME' ) \n",
    "\n",
    "\"\"\"\n",
    "DON'T MODIFY ANYTHING IN THIS CELL THAT IS BELOW THIS LINE\n",
    "\"\"\"\n",
    "tests.test_con_pool(conv2d_maxpool)"
   ]
  },
  {
   "cell_type": "markdown",
   "metadata": {},
   "source": [
    "### Flatten Layer\n",
    "Implement the `flatten` function to change the dimension of `x_tensor` from a 4-D tensor to a 2-D tensor.  The output should be the shape (*Batch Size*, *Flattened Image Size*). Shortcut option: you can use classes from the [TensorFlow Layers](https://www.tensorflow.org/api_docs/python/tf/layers) or [TensorFlow Layers (contrib)](https://www.tensorflow.org/api_guides/python/contrib.layers) packages for this layer. For more of a challenge, only use other TensorFlow packages."
   ]
  },
  {
   "cell_type": "code",
   "execution_count": 37,
   "metadata": {},
   "outputs": [
    {
     "name": "stdout",
     "output_type": "stream",
     "text": [
      "Tests Passed\n"
     ]
    }
   ],
   "source": [
    "def flatten(x_tensor):\n",
    "    \"\"\"\n",
    "    Flatten x_tensor to (Batch Size, Flattened Image Size)\n",
    "    : x_tensor: A tensor of size (Batch Size, ...), where ... are the image dimensions.\n",
    "    : return: A tensor of size (Batch Size, Flattened Image Size).\n",
    "    \"\"\"\n",
    "    # TODO: Implement Function\n",
    "    return tf.contrib.layers.flatten( x_tensor )\n",
    "\n",
    "\n",
    "\"\"\"\n",
    "DON'T MODIFY ANYTHING IN THIS CELL THAT IS BELOW THIS LINE\n",
    "\"\"\"\n",
    "tests.test_flatten(flatten)"
   ]
  },
  {
   "cell_type": "markdown",
   "metadata": {},
   "source": [
    "### Fully-Connected Layer\n",
    "Implement the `fully_conn` function to apply a fully connected layer to `x_tensor` with the shape (*Batch Size*, *num_outputs*). Shortcut option: you can use classes from the [TensorFlow Layers](https://www.tensorflow.org/api_docs/python/tf/layers) or [TensorFlow Layers (contrib)](https://www.tensorflow.org/api_guides/python/contrib.layers) packages for this layer. For more of a challenge, only use other TensorFlow packages."
   ]
  },
  {
   "cell_type": "code",
   "execution_count": 41,
   "metadata": {},
   "outputs": [
    {
     "name": "stdout",
     "output_type": "stream",
     "text": [
      "Tests Passed\n"
     ]
    }
   ],
   "source": [
    "def fully_conn(x_tensor, num_outputs):\n",
    "    \"\"\"\n",
    "    Apply a fully connected layer to x_tensor using weight and bias\n",
    "    : x_tensor: A 2-D tensor where the first dimension is batch size.\n",
    "    : num_outputs: The number of output that the new tensor should be.\n",
    "    : return: A 2-D tensor where the second dimension is num_outputs.\n",
    "    \"\"\"\n",
    "    # TODO: Implement Function    \n",
    "    shape = x_tensor.shape[ 1 ].value\n",
    "    weights = tf.Variable( tf.truncated_normal( [ shape, num_outputs ], mean=0, stddev=0.05 ) )\n",
    "    bias = tf.Variable( tf.zeros( num_outputs ) )\n",
    "\n",
    "    layer = tf.add( tf.matmul( x_tensor, weights ), bias )\n",
    "\n",
    "    return tf.nn.relu( layer )\n",
    "\n",
    "\n",
    "\"\"\"\n",
    "DON'T MODIFY ANYTHING IN THIS CELL THAT IS BELOW THIS LINE\n",
    "\"\"\"\n",
    "tests.test_fully_conn(fully_conn)"
   ]
  },
  {
   "cell_type": "markdown",
   "metadata": {},
   "source": [
    "### Output Layer\n",
    "Implement the `output` function to apply a fully connected layer to `x_tensor` with the shape (*Batch Size*, *num_outputs*). Shortcut option: you can use classes from the [TensorFlow Layers](https://www.tensorflow.org/api_docs/python/tf/layers) or [TensorFlow Layers (contrib)](https://www.tensorflow.org/api_guides/python/contrib.layers) packages for this layer. For more of a challenge, only use other TensorFlow packages.\n",
    "\n",
    "**Note:** Activation, softmax, or cross entropy should **not** be applied to this."
   ]
  },
  {
   "cell_type": "code",
   "execution_count": 40,
   "metadata": {},
   "outputs": [
    {
     "name": "stdout",
     "output_type": "stream",
     "text": [
      "Tests Passed\n"
     ]
    }
   ],
   "source": [
    "def output(x_tensor, num_outputs):\n",
    "    \"\"\"\n",
    "    Apply a output layer to x_tensor using weight and bias\n",
    "    : x_tensor: A 2-D tensor where the first dimension is batch size.\n",
    "    : num_outputs: The number of output that the new tensor should be.\n",
    "    : return: A 2-D tensor where the second dimension is num_outputs.\n",
    "    \"\"\"\n",
    "    # TODO: Implement Function\n",
    "    shape = x_tensor.shape[ 1 ].value\n",
    "    weights = tf.Variable( tf.truncated_normal( [ shape, num_outputs ], mean=0, stddev=0.05 ) )\n",
    "    bias = tf.Variable( tf.zeros( num_outputs ) )\n",
    "\n",
    "    return tf.add( tf.matmul( x_tensor, weights ), bias )\n",
    "\n",
    "\n",
    "\"\"\"\n",
    "DON'T MODIFY ANYTHING IN THIS CELL THAT IS BELOW THIS LINE\n",
    "\"\"\"\n",
    "tests.test_output(output)"
   ]
  },
  {
   "cell_type": "markdown",
   "metadata": {},
   "source": [
    "### Create Convolutional Model\n",
    "Implement the function `conv_net` to create a convolutional neural network model. The function takes in a batch of images, `x`, and outputs logits.  Use the layers you created above to create this model:\n",
    "\n",
    "* Apply 1, 2, or 3 Convolution and Max Pool layers\n",
    "* Apply a Flatten Layer\n",
    "* Apply 1, 2, or 3 Fully Connected Layers\n",
    "* Apply an Output Layer\n",
    "* Return the output\n",
    "* Apply [TensorFlow's Dropout](https://www.tensorflow.org/api_docs/python/tf/nn/dropout) to one or more layers in the model using `keep_prob`. "
   ]
  },
  {
   "cell_type": "code",
   "execution_count": 45,
   "metadata": {},
   "outputs": [
    {
     "name": "stdout",
     "output_type": "stream",
     "text": [
      "Neural Network Built!\n"
     ]
    }
   ],
   "source": [
    "def conv_net(x, keep_prob):\n",
    "    \"\"\"\n",
    "    Create a convolutional neural network model\n",
    "    : x: Placeholder tensor that holds image data.\n",
    "    : keep_prob: Placeholder tensor that hold dropout keep probability.\n",
    "    : return: Tensor that represents logits\n",
    "    \"\"\"\n",
    "    # TODO: Apply 1, 2, or 3 Convolution and Max Pool layers\n",
    "    #    Play around with different number of outputs, kernel size and stride\n",
    "    # Function Definition from Above:\n",
    "    #    conv2d_maxpool(x_tensor, conv_num_outputs, conv_ksize, conv_strides, pool_ksize, pool_strides)\n",
    "    ksize = [4, 4]\n",
    "    stride = [1, 1]\n",
    "    pool_ksize = [2, 2]\n",
    "    pool_stride = [2, 2]\n",
    "    layer1 = conv2d_maxpool( x, 16, ksize, stride, pool_ksize, pool_stride )\n",
    "    layer2 = conv2d_maxpool( layer1, 32, ksize, stride, pool_ksize, pool_stride )\n",
    "    layer3 = conv2d_maxpool( layer2, 64, ksize, stride, pool_ksize, pool_stride )\n",
    "\n",
    "    # TODO: Apply a Flatten Layer\n",
    "    # Function Definition from Above:\n",
    "    #   flatten(x_tensor)\n",
    "    flat = flatten(layer3)\n",
    "\n",
    "    # TODO: Apply 1, 2, or 3 Fully Connected Layers\n",
    "    #    Play around with different number of outputs\n",
    "    # Function Definition from Above:\n",
    "    #   fully_conn(x_tensor, num_outputs)\n",
    "    fully = tf.nn.dropout( fully_conn( flat , 10 ), keep_prob ) \n",
    "    \n",
    "    # TODO: Apply an Output Layer\n",
    "    #    Set this to the number of classes\n",
    "    # Function Definition from Above:\n",
    "    #   output(x_tensor, num_outputs)\n",
    "    \n",
    "    \n",
    "    # TODO: return output\n",
    "    return output(fully, 10)\n",
    "\n",
    "\n",
    "\"\"\"\n",
    "DON'T MODIFY ANYTHING IN THIS CELL THAT IS BELOW THIS LINE\n",
    "\"\"\"\n",
    "\n",
    "##############################\n",
    "## Build the Neural Network ##\n",
    "##############################\n",
    "\n",
    "# Remove previous weights, bias, inputs, etc..\n",
    "tf.reset_default_graph()\n",
    "\n",
    "# Inputs\n",
    "x = neural_net_image_input((32, 32, 3))\n",
    "y = neural_net_label_input(10)\n",
    "keep_prob = neural_net_keep_prob_input()\n",
    "\n",
    "# Model\n",
    "logits = conv_net(x, keep_prob)\n",
    "\n",
    "# Name logits Tensor, so that is can be loaded from disk after training\n",
    "logits = tf.identity(logits, name='logits')\n",
    "\n",
    "# Loss and Optimizer\n",
    "cost = tf.reduce_mean(tf.nn.softmax_cross_entropy_with_logits(logits=logits, labels=y))\n",
    "optimizer = tf.train.AdamOptimizer().minimize(cost)\n",
    "\n",
    "# Accuracy\n",
    "correct_pred = tf.equal(tf.argmax(logits, 1), tf.argmax(y, 1))\n",
    "accuracy = tf.reduce_mean(tf.cast(correct_pred, tf.float32), name='accuracy')\n",
    "\n",
    "tests.test_conv_net(conv_net)"
   ]
  },
  {
   "cell_type": "markdown",
   "metadata": {},
   "source": [
    "## Train the Neural Network\n",
    "### Single Optimization\n",
    "Implement the function `train_neural_network` to do a single optimization.  The optimization should use `optimizer` to optimize in `session` with a `feed_dict` of the following:\n",
    "* `x` for image input\n",
    "* `y` for labels\n",
    "* `keep_prob` for keep probability for dropout\n",
    "\n",
    "This function will be called for each batch, so `tf.global_variables_initializer()` has already been called.\n",
    "\n",
    "Note: Nothing needs to be returned. This function is only optimizing the neural network."
   ]
  },
  {
   "cell_type": "code",
   "execution_count": 46,
   "metadata": {},
   "outputs": [
    {
     "name": "stdout",
     "output_type": "stream",
     "text": [
      "Tests Passed\n"
     ]
    }
   ],
   "source": [
    "def train_neural_network(session, optimizer, keep_probability, feature_batch, label_batch):\n",
    "    \"\"\"\n",
    "    Optimize the session on a batch of images and labels\n",
    "    : session: Current TensorFlow session\n",
    "    : optimizer: TensorFlow optimizer function\n",
    "    : keep_probability: keep probability\n",
    "    : feature_batch: Batch of Numpy image data\n",
    "    : label_batch: Batch of Numpy label data\n",
    "    \"\"\"\n",
    "    # TODO: Implement Function\n",
    "    session.run(optimizer, feed_dict={\n",
    "        x: feature_batch,\n",
    "        y: label_batch,\n",
    "        keep_prob: keep_probability\n",
    "    })\n",
    "    pass\n",
    "\n",
    "\n",
    "\"\"\"\n",
    "DON'T MODIFY ANYTHING IN THIS CELL THAT IS BELOW THIS LINE\n",
    "\"\"\"\n",
    "tests.test_train_nn(train_neural_network)"
   ]
  },
  {
   "cell_type": "markdown",
   "metadata": {},
   "source": [
    "### Show Stats\n",
    "Implement the function `print_stats` to print loss and validation accuracy.  Use the global variables `valid_features` and `valid_labels` to calculate validation accuracy.  Use a keep probability of `1.0` to calculate the loss and validation accuracy."
   ]
  },
  {
   "cell_type": "code",
   "execution_count": 47,
   "metadata": {
    "collapsed": true
   },
   "outputs": [],
   "source": [
    "def print_stats(session, feature_batch, label_batch, cost, accuracy):\n",
    "    \"\"\"\n",
    "    Print information about loss and validation accuracy\n",
    "    : session: Current TensorFlow session\n",
    "    : feature_batch: Batch of Numpy image data\n",
    "    : label_batch: Batch of Numpy label data\n",
    "    : cost: TensorFlow cost function\n",
    "    : accuracy: TensorFlow accuracy function\n",
    "    \"\"\"\n",
    "    # TODO: Implement Function\n",
    "    loss = session.run(cost, feed_dict={\n",
    "        x: feature_batch,\n",
    "        y: label_batch,\n",
    "        keep_prob: 1.0\n",
    "    })\n",
    "    \n",
    "    train = session.run(accuracy, feed_dict={\n",
    "        x: feature_batch,\n",
    "        y: label_batch,\n",
    "        keep_prob: 1.0\n",
    "    })\n",
    "    \n",
    "    valid = session.run(accuracy, feed_dict={\n",
    "        x: valid_features,\n",
    "        y: valid_labels,\n",
    "        keep_prob: 1.0\n",
    "    })\n",
    "    \n",
    "    print('Loss: {:>10.4f} , Training Acc: {:.4f}, Validation Acc: {:.4f}'.format( loss, train, valid))\n"
   ]
  },
  {
   "cell_type": "markdown",
   "metadata": {},
   "source": [
    "### Hyperparameters\n",
    "Tune the following parameters:\n",
    "* Set `epochs` to the number of iterations until the network stops learning or start overfitting\n",
    "* Set `batch_size` to the highest number that your machine has memory for.  Most people set them to common sizes of memory:\n",
    " * 64\n",
    " * 128\n",
    " * 256\n",
    " * ...\n",
    "* Set `keep_probability` to the probability of keeping a node using dropout"
   ]
  },
  {
   "cell_type": "code",
   "execution_count": 52,
   "metadata": {
    "collapsed": true
   },
   "outputs": [],
   "source": [
    "# TODO: Tune Parameters\n",
    "epochs = 50\n",
    "batch_size = 128\n",
    "keep_probability = 0.5"
   ]
  },
  {
   "cell_type": "markdown",
   "metadata": {},
   "source": [
    "### Train on a Single CIFAR-10 Batch\n",
    "Instead of training the neural network on all the CIFAR-10 batches of data, let's use a single batch. This should save time while you iterate on the model to get a better accuracy.  Once the final validation accuracy is 50% or greater, run the model on all the data in the next section."
   ]
  },
  {
   "cell_type": "code",
   "execution_count": 53,
   "metadata": {},
   "outputs": [
    {
     "name": "stdout",
     "output_type": "stream",
     "text": [
      "Checking the Training on a Single Batch...\n",
      "Epoch  1, CIFAR-10 Batch 1:  Loss:     2.2023 , Training Acc: 0.1000, Validation Acc: 0.2184\n",
      "Epoch  2, CIFAR-10 Batch 1:  Loss:     2.1263 , Training Acc: 0.2250, Validation Acc: 0.3146\n",
      "Epoch  3, CIFAR-10 Batch 1:  Loss:     2.0713 , Training Acc: 0.2250, Validation Acc: 0.3252\n",
      "Epoch  4, CIFAR-10 Batch 1:  Loss:     2.0559 , Training Acc: 0.2750, Validation Acc: 0.3350\n",
      "Epoch  5, CIFAR-10 Batch 1:  Loss:     2.0757 , Training Acc: 0.2750, Validation Acc: 0.3568\n",
      "Epoch  6, CIFAR-10 Batch 1:  Loss:     1.9435 , Training Acc: 0.3000, Validation Acc: 0.3596\n",
      "Epoch  7, CIFAR-10 Batch 1:  Loss:     1.9529 , Training Acc: 0.2500, Validation Acc: 0.3776\n",
      "Epoch  8, CIFAR-10 Batch 1:  Loss:     1.8473 , Training Acc: 0.3500, Validation Acc: 0.3714\n",
      "Epoch  9, CIFAR-10 Batch 1:  Loss:     1.8316 , Training Acc: 0.4250, Validation Acc: 0.3824\n",
      "Epoch 10, CIFAR-10 Batch 1:  Loss:     1.7847 , Training Acc: 0.4000, Validation Acc: 0.3998\n",
      "Epoch 11, CIFAR-10 Batch 1:  Loss:     1.7644 , Training Acc: 0.3750, Validation Acc: 0.4000\n",
      "Epoch 12, CIFAR-10 Batch 1:  Loss:     1.8004 , Training Acc: 0.3500, Validation Acc: 0.4050\n",
      "Epoch 13, CIFAR-10 Batch 1:  Loss:     1.7527 , Training Acc: 0.4250, Validation Acc: 0.4172\n",
      "Epoch 14, CIFAR-10 Batch 1:  Loss:     1.6915 , Training Acc: 0.4000, Validation Acc: 0.4144\n",
      "Epoch 15, CIFAR-10 Batch 1:  Loss:     1.6782 , Training Acc: 0.4500, Validation Acc: 0.4274\n",
      "Epoch 16, CIFAR-10 Batch 1:  Loss:     1.6780 , Training Acc: 0.5250, Validation Acc: 0.4256\n",
      "Epoch 17, CIFAR-10 Batch 1:  Loss:     1.6140 , Training Acc: 0.4500, Validation Acc: 0.4338\n",
      "Epoch 18, CIFAR-10 Batch 1:  Loss:     1.6107 , Training Acc: 0.4000, Validation Acc: 0.4416\n",
      "Epoch 19, CIFAR-10 Batch 1:  Loss:     1.5610 , Training Acc: 0.4750, Validation Acc: 0.4480\n",
      "Epoch 20, CIFAR-10 Batch 1:  Loss:     1.7049 , Training Acc: 0.5000, Validation Acc: 0.4276\n",
      "Epoch 21, CIFAR-10 Batch 1:  Loss:     1.5674 , Training Acc: 0.4750, Validation Acc: 0.4388\n",
      "Epoch 22, CIFAR-10 Batch 1:  Loss:     1.5006 , Training Acc: 0.5000, Validation Acc: 0.4512\n",
      "Epoch 23, CIFAR-10 Batch 1:  Loss:     1.4966 , Training Acc: 0.5500, Validation Acc: 0.4556\n",
      "Epoch 24, CIFAR-10 Batch 1:  Loss:     1.4681 , Training Acc: 0.5500, Validation Acc: 0.4452\n",
      "Epoch 25, CIFAR-10 Batch 1:  Loss:     1.3901 , Training Acc: 0.5250, Validation Acc: 0.4642\n",
      "Epoch 26, CIFAR-10 Batch 1:  Loss:     1.3580 , Training Acc: 0.6000, Validation Acc: 0.4572\n",
      "Epoch 27, CIFAR-10 Batch 1:  Loss:     1.3748 , Training Acc: 0.5750, Validation Acc: 0.4684\n",
      "Epoch 28, CIFAR-10 Batch 1:  Loss:     1.3262 , Training Acc: 0.6250, Validation Acc: 0.4572\n",
      "Epoch 29, CIFAR-10 Batch 1:  Loss:     1.2844 , Training Acc: 0.5500, Validation Acc: 0.4748\n",
      "Epoch 30, CIFAR-10 Batch 1:  Loss:     1.2997 , Training Acc: 0.6000, Validation Acc: 0.4600\n",
      "Epoch 31, CIFAR-10 Batch 1:  Loss:     1.2506 , Training Acc: 0.6750, Validation Acc: 0.4678\n",
      "Epoch 32, CIFAR-10 Batch 1:  Loss:     1.2879 , Training Acc: 0.6000, Validation Acc: 0.4512\n",
      "Epoch 33, CIFAR-10 Batch 1:  Loss:     1.1828 , Training Acc: 0.7000, Validation Acc: 0.4794\n",
      "Epoch 34, CIFAR-10 Batch 1:  Loss:     1.1518 , Training Acc: 0.6500, Validation Acc: 0.4750\n",
      "Epoch 35, CIFAR-10 Batch 1:  Loss:     1.1837 , Training Acc: 0.6750, Validation Acc: 0.4706\n",
      "Epoch 36, CIFAR-10 Batch 1:  Loss:     1.1546 , Training Acc: 0.6500, Validation Acc: 0.4834\n",
      "Epoch 37, CIFAR-10 Batch 1:  Loss:     1.1221 , Training Acc: 0.6250, Validation Acc: 0.4954\n",
      "Epoch 38, CIFAR-10 Batch 1:  Loss:     1.0976 , Training Acc: 0.7000, Validation Acc: 0.4884\n",
      "Epoch 39, CIFAR-10 Batch 1:  Loss:     1.0809 , Training Acc: 0.6500, Validation Acc: 0.4994\n",
      "Epoch 40, CIFAR-10 Batch 1:  Loss:     1.0729 , Training Acc: 0.7000, Validation Acc: 0.4968\n",
      "Epoch 41, CIFAR-10 Batch 1:  Loss:     1.0302 , Training Acc: 0.6750, Validation Acc: 0.4830\n",
      "Epoch 42, CIFAR-10 Batch 1:  Loss:     0.9990 , Training Acc: 0.7500, Validation Acc: 0.4956\n",
      "Epoch 43, CIFAR-10 Batch 1:  Loss:     1.0089 , Training Acc: 0.7000, Validation Acc: 0.4858\n",
      "Epoch 44, CIFAR-10 Batch 1:  Loss:     1.0068 , Training Acc: 0.7500, Validation Acc: 0.4742\n",
      "Epoch 45, CIFAR-10 Batch 1:  Loss:     0.9688 , Training Acc: 0.7250, Validation Acc: 0.4884\n",
      "Epoch 46, CIFAR-10 Batch 1:  Loss:     0.9569 , Training Acc: 0.7250, Validation Acc: 0.5054\n",
      "Epoch 47, CIFAR-10 Batch 1:  Loss:     0.9271 , Training Acc: 0.7500, Validation Acc: 0.5012\n",
      "Epoch 48, CIFAR-10 Batch 1:  Loss:     0.9386 , Training Acc: 0.7750, Validation Acc: 0.5048\n",
      "Epoch 49, CIFAR-10 Batch 1:  Loss:     0.9431 , Training Acc: 0.7750, Validation Acc: 0.4904\n",
      "Epoch 50, CIFAR-10 Batch 1:  Loss:     0.9194 , Training Acc: 0.7500, Validation Acc: 0.4948\n"
     ]
    }
   ],
   "source": [
    "\"\"\"\n",
    "DON'T MODIFY ANYTHING IN THIS CELL\n",
    "\"\"\"\n",
    "print('Checking the Training on a Single Batch...')\n",
    "with tf.Session() as sess:\n",
    "    # Initializing the variables\n",
    "    sess.run(tf.global_variables_initializer())\n",
    "    \n",
    "    # Training cycle\n",
    "    for epoch in range(epochs):\n",
    "        batch_i = 1\n",
    "        for batch_features, batch_labels in helper.load_preprocess_training_batch(batch_i, batch_size):\n",
    "            train_neural_network(sess, optimizer, keep_probability, batch_features, batch_labels)\n",
    "        print('Epoch {:>2}, CIFAR-10 Batch {}:  '.format(epoch + 1, batch_i), end='')\n",
    "        print_stats(sess, batch_features, batch_labels, cost, accuracy)"
   ]
  },
  {
   "cell_type": "markdown",
   "metadata": {},
   "source": [
    "### Fully Train the Model\n",
    "Now that you got a good accuracy with a single CIFAR-10 batch, try it with all five batches."
   ]
  },
  {
   "cell_type": "code",
   "execution_count": 54,
   "metadata": {},
   "outputs": [
    {
     "name": "stdout",
     "output_type": "stream",
     "text": [
      "Training...\n",
      "Epoch  1, CIFAR-10 Batch 1:  Loss:     2.2310 , Training Acc: 0.2000, Validation Acc: 0.1940\n",
      "Epoch  1, CIFAR-10 Batch 2:  Loss:     2.0229 , Training Acc: 0.2250, Validation Acc: 0.2730\n",
      "Epoch  1, CIFAR-10 Batch 3:  Loss:     1.8361 , Training Acc: 0.3750, Validation Acc: 0.2952\n",
      "Epoch  1, CIFAR-10 Batch 4:  Loss:     1.8343 , Training Acc: 0.3500, Validation Acc: 0.3360\n",
      "Epoch  1, CIFAR-10 Batch 5:  Loss:     1.9410 , Training Acc: 0.4000, Validation Acc: 0.3268\n",
      "Epoch  2, CIFAR-10 Batch 1:  Loss:     2.0841 , Training Acc: 0.2500, Validation Acc: 0.3094\n",
      "Epoch  2, CIFAR-10 Batch 2:  Loss:     1.8475 , Training Acc: 0.4500, Validation Acc: 0.3454\n",
      "Epoch  2, CIFAR-10 Batch 3:  Loss:     1.6862 , Training Acc: 0.4000, Validation Acc: 0.3264\n",
      "Epoch  2, CIFAR-10 Batch 4:  Loss:     1.7691 , Training Acc: 0.3750, Validation Acc: 0.3620\n",
      "Epoch  2, CIFAR-10 Batch 5:  Loss:     1.8726 , Training Acc: 0.3500, Validation Acc: 0.3566\n",
      "Epoch  3, CIFAR-10 Batch 1:  Loss:     1.9035 , Training Acc: 0.3250, Validation Acc: 0.3722\n",
      "Epoch  3, CIFAR-10 Batch 2:  Loss:     1.8133 , Training Acc: 0.4750, Validation Acc: 0.3794\n",
      "Epoch  3, CIFAR-10 Batch 3:  Loss:     1.5756 , Training Acc: 0.4500, Validation Acc: 0.3930\n",
      "Epoch  3, CIFAR-10 Batch 4:  Loss:     1.6911 , Training Acc: 0.4000, Validation Acc: 0.3944\n",
      "Epoch  3, CIFAR-10 Batch 5:  Loss:     1.7815 , Training Acc: 0.3750, Validation Acc: 0.3684\n",
      "Epoch  4, CIFAR-10 Batch 1:  Loss:     1.7732 , Training Acc: 0.4500, Validation Acc: 0.4170\n",
      "Epoch  4, CIFAR-10 Batch 2:  Loss:     1.6805 , Training Acc: 0.4750, Validation Acc: 0.4160\n",
      "Epoch  4, CIFAR-10 Batch 3:  Loss:     1.4302 , Training Acc: 0.6250, Validation Acc: 0.4144\n",
      "Epoch  4, CIFAR-10 Batch 4:  Loss:     1.6746 , Training Acc: 0.4250, Validation Acc: 0.4072\n",
      "Epoch  4, CIFAR-10 Batch 5:  Loss:     1.6761 , Training Acc: 0.5000, Validation Acc: 0.4208\n",
      "Epoch  5, CIFAR-10 Batch 1:  Loss:     1.6191 , Training Acc: 0.4250, Validation Acc: 0.4458\n",
      "Epoch  5, CIFAR-10 Batch 2:  Loss:     1.6846 , Training Acc: 0.4500, Validation Acc: 0.4388\n",
      "Epoch  5, CIFAR-10 Batch 3:  Loss:     1.4006 , Training Acc: 0.5750, Validation Acc: 0.4358\n",
      "Epoch  5, CIFAR-10 Batch 4:  Loss:     1.5875 , Training Acc: 0.4250, Validation Acc: 0.4248\n",
      "Epoch  5, CIFAR-10 Batch 5:  Loss:     1.6124 , Training Acc: 0.5500, Validation Acc: 0.4350\n",
      "Epoch  6, CIFAR-10 Batch 1:  Loss:     1.5562 , Training Acc: 0.4750, Validation Acc: 0.4584\n",
      "Epoch  6, CIFAR-10 Batch 2:  Loss:     1.5386 , Training Acc: 0.5250, Validation Acc: 0.4662\n",
      "Epoch  6, CIFAR-10 Batch 3:  Loss:     1.3422 , Training Acc: 0.4750, Validation Acc: 0.4462\n",
      "Epoch  6, CIFAR-10 Batch 4:  Loss:     1.5543 , Training Acc: 0.3750, Validation Acc: 0.4570\n",
      "Epoch  6, CIFAR-10 Batch 5:  Loss:     1.6062 , Training Acc: 0.4250, Validation Acc: 0.4518\n",
      "Epoch  7, CIFAR-10 Batch 1:  Loss:     1.4613 , Training Acc: 0.5000, Validation Acc: 0.4770\n",
      "Epoch  7, CIFAR-10 Batch 2:  Loss:     1.4753 , Training Acc: 0.5500, Validation Acc: 0.4846\n",
      "Epoch  7, CIFAR-10 Batch 3:  Loss:     1.2445 , Training Acc: 0.6000, Validation Acc: 0.4852\n",
      "Epoch  7, CIFAR-10 Batch 4:  Loss:     1.5009 , Training Acc: 0.4000, Validation Acc: 0.4868\n",
      "Epoch  7, CIFAR-10 Batch 5:  Loss:     1.4831 , Training Acc: 0.5000, Validation Acc: 0.4788\n",
      "Epoch  8, CIFAR-10 Batch 1:  Loss:     1.3675 , Training Acc: 0.6000, Validation Acc: 0.4912\n",
      "Epoch  8, CIFAR-10 Batch 2:  Loss:     1.5025 , Training Acc: 0.4750, Validation Acc: 0.4954\n",
      "Epoch  8, CIFAR-10 Batch 3:  Loss:     1.2650 , Training Acc: 0.5500, Validation Acc: 0.4918\n",
      "Epoch  8, CIFAR-10 Batch 4:  Loss:     1.4486 , Training Acc: 0.4500, Validation Acc: 0.4936\n",
      "Epoch  8, CIFAR-10 Batch 5:  Loss:     1.4743 , Training Acc: 0.4750, Validation Acc: 0.4936\n",
      "Epoch  9, CIFAR-10 Batch 1:  Loss:     1.3894 , Training Acc: 0.5000, Validation Acc: 0.4898\n",
      "Epoch  9, CIFAR-10 Batch 2:  Loss:     1.5645 , Training Acc: 0.5000, Validation Acc: 0.4912\n",
      "Epoch  9, CIFAR-10 Batch 3:  Loss:     1.1771 , Training Acc: 0.6000, Validation Acc: 0.5070\n",
      "Epoch  9, CIFAR-10 Batch 4:  Loss:     1.3657 , Training Acc: 0.5000, Validation Acc: 0.5254\n",
      "Epoch  9, CIFAR-10 Batch 5:  Loss:     1.3972 , Training Acc: 0.6250, Validation Acc: 0.5016\n",
      "Epoch 10, CIFAR-10 Batch 1:  Loss:     1.2792 , Training Acc: 0.5750, Validation Acc: 0.5240\n",
      "Epoch 10, CIFAR-10 Batch 2:  Loss:     1.3795 , Training Acc: 0.5500, Validation Acc: 0.5200\n",
      "Epoch 10, CIFAR-10 Batch 3:  Loss:     1.1373 , Training Acc: 0.6250, Validation Acc: 0.5182\n",
      "Epoch 10, CIFAR-10 Batch 4:  Loss:     1.3406 , Training Acc: 0.4750, Validation Acc: 0.5342\n",
      "Epoch 10, CIFAR-10 Batch 5:  Loss:     1.3292 , Training Acc: 0.5500, Validation Acc: 0.5192\n",
      "Epoch 11, CIFAR-10 Batch 1:  Loss:     1.2655 , Training Acc: 0.5500, Validation Acc: 0.5198\n",
      "Epoch 11, CIFAR-10 Batch 2:  Loss:     1.3342 , Training Acc: 0.5750, Validation Acc: 0.5236\n",
      "Epoch 11, CIFAR-10 Batch 3:  Loss:     1.1489 , Training Acc: 0.6500, Validation Acc: 0.5258\n",
      "Epoch 11, CIFAR-10 Batch 4:  Loss:     1.2947 , Training Acc: 0.5250, Validation Acc: 0.5420\n",
      "Epoch 11, CIFAR-10 Batch 5:  Loss:     1.2955 , Training Acc: 0.5000, Validation Acc: 0.5274\n",
      "Epoch 12, CIFAR-10 Batch 1:  Loss:     1.1829 , Training Acc: 0.6000, Validation Acc: 0.5422\n",
      "Epoch 12, CIFAR-10 Batch 2:  Loss:     1.2547 , Training Acc: 0.5750, Validation Acc: 0.5410\n",
      "Epoch 12, CIFAR-10 Batch 3:  Loss:     1.0911 , Training Acc: 0.6500, Validation Acc: 0.5414\n",
      "Epoch 12, CIFAR-10 Batch 4:  Loss:     1.2918 , Training Acc: 0.5000, Validation Acc: 0.5406\n",
      "Epoch 12, CIFAR-10 Batch 5:  Loss:     1.3043 , Training Acc: 0.5000, Validation Acc: 0.5326\n",
      "Epoch 13, CIFAR-10 Batch 1:  Loss:     1.1930 , Training Acc: 0.5500, Validation Acc: 0.5576\n",
      "Epoch 13, CIFAR-10 Batch 2:  Loss:     1.2629 , Training Acc: 0.6250, Validation Acc: 0.5400\n",
      "Epoch 13, CIFAR-10 Batch 3:  Loss:     1.0619 , Training Acc: 0.6500, Validation Acc: 0.5484\n",
      "Epoch 13, CIFAR-10 Batch 4:  Loss:     1.2602 , Training Acc: 0.4750, Validation Acc: 0.5592\n",
      "Epoch 13, CIFAR-10 Batch 5:  Loss:     1.2261 , Training Acc: 0.5500, Validation Acc: 0.5296\n",
      "Epoch 14, CIFAR-10 Batch 1:  Loss:     1.1437 , Training Acc: 0.6000, Validation Acc: 0.5562\n",
      "Epoch 14, CIFAR-10 Batch 2:  Loss:     1.2399 , Training Acc: 0.6000, Validation Acc: 0.5564\n",
      "Epoch 14, CIFAR-10 Batch 3:  Loss:     1.0775 , Training Acc: 0.6000, Validation Acc: 0.5574\n",
      "Epoch 14, CIFAR-10 Batch 4:  Loss:     1.1844 , Training Acc: 0.5250, Validation Acc: 0.5622\n",
      "Epoch 14, CIFAR-10 Batch 5:  Loss:     1.2034 , Training Acc: 0.5750, Validation Acc: 0.5508\n",
      "Epoch 15, CIFAR-10 Batch 1:  Loss:     1.1615 , Training Acc: 0.5500, Validation Acc: 0.5600\n",
      "Epoch 15, CIFAR-10 Batch 2:  Loss:     1.2445 , Training Acc: 0.6000, Validation Acc: 0.5538\n",
      "Epoch 15, CIFAR-10 Batch 3:  Loss:     1.0138 , Training Acc: 0.6750, Validation Acc: 0.5664\n",
      "Epoch 15, CIFAR-10 Batch 4:  Loss:     1.1530 , Training Acc: 0.5500, Validation Acc: 0.5578\n",
      "Epoch 15, CIFAR-10 Batch 5:  Loss:     1.1260 , Training Acc: 0.5500, Validation Acc: 0.5646\n",
      "Epoch 16, CIFAR-10 Batch 1:  Loss:     1.0687 , Training Acc: 0.6500, Validation Acc: 0.5654\n",
      "Epoch 16, CIFAR-10 Batch 2:  Loss:     1.1702 , Training Acc: 0.6250, Validation Acc: 0.5716\n",
      "Epoch 16, CIFAR-10 Batch 3:  Loss:     1.0332 , Training Acc: 0.7250, Validation Acc: 0.5706\n",
      "Epoch 16, CIFAR-10 Batch 4:  Loss:     1.1081 , Training Acc: 0.5000, Validation Acc: 0.5792\n",
      "Epoch 16, CIFAR-10 Batch 5:  Loss:     1.0980 , Training Acc: 0.6500, Validation Acc: 0.5796\n",
      "Epoch 17, CIFAR-10 Batch 1:  Loss:     1.0268 , Training Acc: 0.6500, Validation Acc: 0.5778\n",
      "Epoch 17, CIFAR-10 Batch 2:  Loss:     1.1611 , Training Acc: 0.6250, Validation Acc: 0.5758\n",
      "Epoch 17, CIFAR-10 Batch 3:  Loss:     0.9749 , Training Acc: 0.7000, Validation Acc: 0.5860\n",
      "Epoch 17, CIFAR-10 Batch 4:  Loss:     1.1362 , Training Acc: 0.5750, Validation Acc: 0.5750\n",
      "Epoch 17, CIFAR-10 Batch 5:  Loss:     1.1114 , Training Acc: 0.7000, Validation Acc: 0.5722\n",
      "Epoch 18, CIFAR-10 Batch 1:  Loss:     1.0492 , Training Acc: 0.6500, Validation Acc: 0.5816\n",
      "Epoch 18, CIFAR-10 Batch 2:  Loss:     1.1491 , Training Acc: 0.6250, Validation Acc: 0.5734\n"
     ]
    },
    {
     "name": "stdout",
     "output_type": "stream",
     "text": [
      "Epoch 18, CIFAR-10 Batch 3:  Loss:     0.9256 , Training Acc: 0.7250, Validation Acc: 0.5930\n",
      "Epoch 18, CIFAR-10 Batch 4:  Loss:     1.1101 , Training Acc: 0.6500, Validation Acc: 0.5852\n",
      "Epoch 18, CIFAR-10 Batch 5:  Loss:     1.0284 , Training Acc: 0.6500, Validation Acc: 0.5792\n",
      "Epoch 19, CIFAR-10 Batch 1:  Loss:     0.9772 , Training Acc: 0.7000, Validation Acc: 0.5870\n",
      "Epoch 19, CIFAR-10 Batch 2:  Loss:     1.0994 , Training Acc: 0.6500, Validation Acc: 0.5854\n",
      "Epoch 19, CIFAR-10 Batch 3:  Loss:     0.9016 , Training Acc: 0.7250, Validation Acc: 0.5858\n",
      "Epoch 19, CIFAR-10 Batch 4:  Loss:     1.0751 , Training Acc: 0.6750, Validation Acc: 0.5956\n",
      "Epoch 19, CIFAR-10 Batch 5:  Loss:     1.0216 , Training Acc: 0.7750, Validation Acc: 0.5852\n",
      "Epoch 20, CIFAR-10 Batch 1:  Loss:     0.9678 , Training Acc: 0.6750, Validation Acc: 0.5944\n",
      "Epoch 20, CIFAR-10 Batch 2:  Loss:     1.0916 , Training Acc: 0.7000, Validation Acc: 0.5778\n",
      "Epoch 20, CIFAR-10 Batch 3:  Loss:     0.9007 , Training Acc: 0.7750, Validation Acc: 0.5790\n",
      "Epoch 20, CIFAR-10 Batch 4:  Loss:     1.0214 , Training Acc: 0.6500, Validation Acc: 0.5962\n",
      "Epoch 20, CIFAR-10 Batch 5:  Loss:     0.9607 , Training Acc: 0.7500, Validation Acc: 0.6012\n",
      "Epoch 21, CIFAR-10 Batch 1:  Loss:     0.9871 , Training Acc: 0.6750, Validation Acc: 0.5866\n",
      "Epoch 21, CIFAR-10 Batch 2:  Loss:     1.0673 , Training Acc: 0.6750, Validation Acc: 0.5928\n",
      "Epoch 21, CIFAR-10 Batch 3:  Loss:     0.8775 , Training Acc: 0.7000, Validation Acc: 0.5958\n",
      "Epoch 21, CIFAR-10 Batch 4:  Loss:     1.0477 , Training Acc: 0.6750, Validation Acc: 0.5852\n",
      "Epoch 21, CIFAR-10 Batch 5:  Loss:     0.9529 , Training Acc: 0.7250, Validation Acc: 0.6000\n",
      "Epoch 22, CIFAR-10 Batch 1:  Loss:     0.9673 , Training Acc: 0.6750, Validation Acc: 0.5904\n",
      "Epoch 22, CIFAR-10 Batch 2:  Loss:     1.0459 , Training Acc: 0.6750, Validation Acc: 0.5990\n",
      "Epoch 22, CIFAR-10 Batch 3:  Loss:     0.8517 , Training Acc: 0.7750, Validation Acc: 0.5976\n",
      "Epoch 22, CIFAR-10 Batch 4:  Loss:     0.9698 , Training Acc: 0.7250, Validation Acc: 0.5990\n",
      "Epoch 22, CIFAR-10 Batch 5:  Loss:     0.9032 , Training Acc: 0.8250, Validation Acc: 0.6034\n",
      "Epoch 23, CIFAR-10 Batch 1:  Loss:     0.9623 , Training Acc: 0.6500, Validation Acc: 0.5920\n",
      "Epoch 23, CIFAR-10 Batch 2:  Loss:     1.0334 , Training Acc: 0.7000, Validation Acc: 0.5916\n",
      "Epoch 23, CIFAR-10 Batch 3:  Loss:     0.8087 , Training Acc: 0.8750, Validation Acc: 0.6014\n",
      "Epoch 23, CIFAR-10 Batch 4:  Loss:     0.9430 , Training Acc: 0.7750, Validation Acc: 0.5990\n",
      "Epoch 23, CIFAR-10 Batch 5:  Loss:     0.9189 , Training Acc: 0.7750, Validation Acc: 0.6056\n",
      "Epoch 24, CIFAR-10 Batch 1:  Loss:     0.9322 , Training Acc: 0.7750, Validation Acc: 0.6030\n",
      "Epoch 24, CIFAR-10 Batch 2:  Loss:     1.0241 , Training Acc: 0.7000, Validation Acc: 0.6038\n",
      "Epoch 24, CIFAR-10 Batch 3:  Loss:     0.8289 , Training Acc: 0.7750, Validation Acc: 0.6100\n",
      "Epoch 24, CIFAR-10 Batch 4:  Loss:     0.9683 , Training Acc: 0.6500, Validation Acc: 0.5980\n",
      "Epoch 24, CIFAR-10 Batch 5:  Loss:     0.8801 , Training Acc: 0.7750, Validation Acc: 0.6108\n",
      "Epoch 25, CIFAR-10 Batch 1:  Loss:     0.9721 , Training Acc: 0.7250, Validation Acc: 0.5914\n",
      "Epoch 25, CIFAR-10 Batch 2:  Loss:     1.0261 , Training Acc: 0.7000, Validation Acc: 0.6088\n",
      "Epoch 25, CIFAR-10 Batch 3:  Loss:     0.8357 , Training Acc: 0.8500, Validation Acc: 0.6022\n",
      "Epoch 25, CIFAR-10 Batch 4:  Loss:     0.9946 , Training Acc: 0.7250, Validation Acc: 0.6028\n",
      "Epoch 25, CIFAR-10 Batch 5:  Loss:     0.9112 , Training Acc: 0.7500, Validation Acc: 0.6008\n",
      "Epoch 26, CIFAR-10 Batch 1:  Loss:     0.9050 , Training Acc: 0.7000, Validation Acc: 0.6048\n",
      "Epoch 26, CIFAR-10 Batch 2:  Loss:     0.9678 , Training Acc: 0.7250, Validation Acc: 0.6136\n",
      "Epoch 26, CIFAR-10 Batch 3:  Loss:     0.8396 , Training Acc: 0.7750, Validation Acc: 0.5994\n",
      "Epoch 26, CIFAR-10 Batch 4:  Loss:     0.9107 , Training Acc: 0.7250, Validation Acc: 0.6046\n",
      "Epoch 26, CIFAR-10 Batch 5:  Loss:     0.8531 , Training Acc: 0.8000, Validation Acc: 0.5976\n",
      "Epoch 27, CIFAR-10 Batch 1:  Loss:     0.9102 , Training Acc: 0.7250, Validation Acc: 0.6136\n",
      "Epoch 27, CIFAR-10 Batch 2:  Loss:     1.0166 , Training Acc: 0.7250, Validation Acc: 0.5904\n",
      "Epoch 27, CIFAR-10 Batch 3:  Loss:     0.7868 , Training Acc: 0.8750, Validation Acc: 0.6118\n",
      "Epoch 27, CIFAR-10 Batch 4:  Loss:     0.9232 , Training Acc: 0.7000, Validation Acc: 0.6088\n",
      "Epoch 27, CIFAR-10 Batch 5:  Loss:     0.8505 , Training Acc: 0.8500, Validation Acc: 0.6184\n",
      "Epoch 28, CIFAR-10 Batch 1:  Loss:     0.8961 , Training Acc: 0.7250, Validation Acc: 0.6058\n",
      "Epoch 28, CIFAR-10 Batch 2:  Loss:     1.0185 , Training Acc: 0.7750, Validation Acc: 0.5920\n",
      "Epoch 28, CIFAR-10 Batch 3:  Loss:     0.8012 , Training Acc: 0.8250, Validation Acc: 0.6148\n",
      "Epoch 28, CIFAR-10 Batch 4:  Loss:     0.8741 , Training Acc: 0.7250, Validation Acc: 0.6142\n",
      "Epoch 28, CIFAR-10 Batch 5:  Loss:     0.8350 , Training Acc: 0.8000, Validation Acc: 0.6128\n",
      "Epoch 29, CIFAR-10 Batch 1:  Loss:     0.8875 , Training Acc: 0.7250, Validation Acc: 0.6154\n",
      "Epoch 29, CIFAR-10 Batch 2:  Loss:     0.9792 , Training Acc: 0.7250, Validation Acc: 0.6086\n",
      "Epoch 29, CIFAR-10 Batch 3:  Loss:     0.7345 , Training Acc: 0.8250, Validation Acc: 0.6168\n",
      "Epoch 29, CIFAR-10 Batch 4:  Loss:     0.8828 , Training Acc: 0.7500, Validation Acc: 0.6182\n",
      "Epoch 29, CIFAR-10 Batch 5:  Loss:     0.8698 , Training Acc: 0.7750, Validation Acc: 0.6046\n",
      "Epoch 30, CIFAR-10 Batch 1:  Loss:     0.9179 , Training Acc: 0.6750, Validation Acc: 0.6050\n",
      "Epoch 30, CIFAR-10 Batch 2:  Loss:     0.9747 , Training Acc: 0.6500, Validation Acc: 0.6090\n",
      "Epoch 30, CIFAR-10 Batch 3:  Loss:     0.7388 , Training Acc: 0.8500, Validation Acc: 0.6112\n",
      "Epoch 30, CIFAR-10 Batch 4:  Loss:     0.8869 , Training Acc: 0.8500, Validation Acc: 0.6180\n",
      "Epoch 30, CIFAR-10 Batch 5:  Loss:     0.8347 , Training Acc: 0.7500, Validation Acc: 0.6068\n",
      "Epoch 31, CIFAR-10 Batch 1:  Loss:     0.8494 , Training Acc: 0.7250, Validation Acc: 0.6118\n",
      "Epoch 31, CIFAR-10 Batch 2:  Loss:     0.9723 , Training Acc: 0.6750, Validation Acc: 0.6088\n",
      "Epoch 31, CIFAR-10 Batch 3:  Loss:     0.7426 , Training Acc: 0.7500, Validation Acc: 0.6106\n",
      "Epoch 31, CIFAR-10 Batch 4:  Loss:     0.8600 , Training Acc: 0.7750, Validation Acc: 0.6180\n",
      "Epoch 31, CIFAR-10 Batch 5:  Loss:     0.7758 , Training Acc: 0.8250, Validation Acc: 0.6196\n",
      "Epoch 32, CIFAR-10 Batch 1:  Loss:     0.8714 , Training Acc: 0.6750, Validation Acc: 0.6082\n",
      "Epoch 32, CIFAR-10 Batch 2:  Loss:     0.9278 , Training Acc: 0.7000, Validation Acc: 0.6018\n",
      "Epoch 32, CIFAR-10 Batch 3:  Loss:     0.7158 , Training Acc: 0.8500, Validation Acc: 0.6076\n",
      "Epoch 32, CIFAR-10 Batch 4:  Loss:     0.8851 , Training Acc: 0.7500, Validation Acc: 0.6162\n",
      "Epoch 32, CIFAR-10 Batch 5:  Loss:     0.8244 , Training Acc: 0.8250, Validation Acc: 0.6110\n",
      "Epoch 33, CIFAR-10 Batch 1:  Loss:     0.9045 , Training Acc: 0.7000, Validation Acc: 0.5986\n",
      "Epoch 33, CIFAR-10 Batch 2:  Loss:     0.9647 , Training Acc: 0.7750, Validation Acc: 0.5830\n",
      "Epoch 33, CIFAR-10 Batch 3:  Loss:     0.7271 , Training Acc: 0.9000, Validation Acc: 0.6130\n",
      "Epoch 33, CIFAR-10 Batch 4:  Loss:     0.8348 , Training Acc: 0.7250, Validation Acc: 0.6152\n",
      "Epoch 33, CIFAR-10 Batch 5:  Loss:     0.7809 , Training Acc: 0.8000, Validation Acc: 0.6090\n",
      "Epoch 34, CIFAR-10 Batch 1:  Loss:     0.8639 , Training Acc: 0.7000, Validation Acc: 0.6132\n",
      "Epoch 34, CIFAR-10 Batch 2:  Loss:     0.9020 , Training Acc: 0.7250, Validation Acc: 0.6054\n",
      "Epoch 34, CIFAR-10 Batch 3:  Loss:     0.7524 , Training Acc: 0.8500, Validation Acc: 0.6172\n",
      "Epoch 34, CIFAR-10 Batch 4:  Loss:     0.8458 , Training Acc: 0.7750, Validation Acc: 0.6196\n",
      "Epoch 34, CIFAR-10 Batch 5:  Loss:     0.8241 , Training Acc: 0.8500, Validation Acc: 0.6136\n",
      "Epoch 35, CIFAR-10 Batch 1:  Loss:     0.8296 , Training Acc: 0.7750, Validation Acc: 0.6180\n",
      "Epoch 35, CIFAR-10 Batch 2:  Loss:     0.8873 , Training Acc: 0.7250, Validation Acc: 0.6082\n",
      "Epoch 35, CIFAR-10 Batch 3:  Loss:     0.7389 , Training Acc: 0.8750, Validation Acc: 0.6090\n",
      "Epoch 35, CIFAR-10 Batch 4:  Loss:     0.8191 , Training Acc: 0.8250, Validation Acc: 0.6126\n",
      "Epoch 35, CIFAR-10 Batch 5:  Loss:     0.7343 , Training Acc: 0.9000, Validation Acc: 0.6128\n"
     ]
    },
    {
     "name": "stdout",
     "output_type": "stream",
     "text": [
      "Epoch 36, CIFAR-10 Batch 1:  Loss:     0.8601 , Training Acc: 0.6500, Validation Acc: 0.6100\n",
      "Epoch 36, CIFAR-10 Batch 2:  Loss:     0.8405 , Training Acc: 0.7500, Validation Acc: 0.6238\n",
      "Epoch 36, CIFAR-10 Batch 3:  Loss:     0.7334 , Training Acc: 0.9000, Validation Acc: 0.6176\n",
      "Epoch 36, CIFAR-10 Batch 4:  Loss:     0.8167 , Training Acc: 0.8000, Validation Acc: 0.6168\n",
      "Epoch 36, CIFAR-10 Batch 5:  Loss:     0.7390 , Training Acc: 0.9000, Validation Acc: 0.6142\n",
      "Epoch 37, CIFAR-10 Batch 1:  Loss:     0.7985 , Training Acc: 0.7250, Validation Acc: 0.6110\n",
      "Epoch 37, CIFAR-10 Batch 2:  Loss:     0.8940 , Training Acc: 0.7250, Validation Acc: 0.6008\n",
      "Epoch 37, CIFAR-10 Batch 3:  Loss:     0.6804 , Training Acc: 0.8500, Validation Acc: 0.6170\n",
      "Epoch 37, CIFAR-10 Batch 4:  Loss:     0.7812 , Training Acc: 0.8000, Validation Acc: 0.6168\n",
      "Epoch 37, CIFAR-10 Batch 5:  Loss:     0.7464 , Training Acc: 0.8250, Validation Acc: 0.6206\n",
      "Epoch 38, CIFAR-10 Batch 1:  Loss:     0.8401 , Training Acc: 0.7250, Validation Acc: 0.6004\n",
      "Epoch 38, CIFAR-10 Batch 2:  Loss:     0.8662 , Training Acc: 0.7000, Validation Acc: 0.5964\n",
      "Epoch 38, CIFAR-10 Batch 3:  Loss:     0.6890 , Training Acc: 0.9250, Validation Acc: 0.6062\n",
      "Epoch 38, CIFAR-10 Batch 4:  Loss:     0.8202 , Training Acc: 0.8250, Validation Acc: 0.6180\n",
      "Epoch 38, CIFAR-10 Batch 5:  Loss:     0.7774 , Training Acc: 0.8500, Validation Acc: 0.6196\n",
      "Epoch 39, CIFAR-10 Batch 1:  Loss:     0.8280 , Training Acc: 0.7250, Validation Acc: 0.6136\n",
      "Epoch 39, CIFAR-10 Batch 2:  Loss:     0.8813 , Training Acc: 0.6750, Validation Acc: 0.6136\n",
      "Epoch 39, CIFAR-10 Batch 3:  Loss:     0.6655 , Training Acc: 0.8500, Validation Acc: 0.6220\n",
      "Epoch 39, CIFAR-10 Batch 4:  Loss:     0.7837 , Training Acc: 0.8500, Validation Acc: 0.6228\n",
      "Epoch 39, CIFAR-10 Batch 5:  Loss:     0.7783 , Training Acc: 0.8750, Validation Acc: 0.6202\n",
      "Epoch 40, CIFAR-10 Batch 1:  Loss:     0.8028 , Training Acc: 0.7250, Validation Acc: 0.6102\n",
      "Epoch 40, CIFAR-10 Batch 2:  Loss:     0.8563 , Training Acc: 0.6500, Validation Acc: 0.5986\n",
      "Epoch 40, CIFAR-10 Batch 3:  Loss:     0.6803 , Training Acc: 0.8750, Validation Acc: 0.6078\n",
      "Epoch 40, CIFAR-10 Batch 4:  Loss:     0.8084 , Training Acc: 0.8000, Validation Acc: 0.6170\n",
      "Epoch 40, CIFAR-10 Batch 5:  Loss:     0.7457 , Training Acc: 0.8500, Validation Acc: 0.6146\n",
      "Epoch 41, CIFAR-10 Batch 1:  Loss:     0.8287 , Training Acc: 0.7250, Validation Acc: 0.6122\n",
      "Epoch 41, CIFAR-10 Batch 2:  Loss:     0.8357 , Training Acc: 0.6750, Validation Acc: 0.6244\n",
      "Epoch 41, CIFAR-10 Batch 3:  Loss:     0.6695 , Training Acc: 0.8500, Validation Acc: 0.6218\n",
      "Epoch 41, CIFAR-10 Batch 4:  Loss:     0.7895 , Training Acc: 0.8000, Validation Acc: 0.6076\n",
      "Epoch 41, CIFAR-10 Batch 5:  Loss:     0.6801 , Training Acc: 0.9000, Validation Acc: 0.6204\n",
      "Epoch 42, CIFAR-10 Batch 1:  Loss:     0.8175 , Training Acc: 0.7250, Validation Acc: 0.6134\n",
      "Epoch 42, CIFAR-10 Batch 2:  Loss:     0.8270 , Training Acc: 0.6500, Validation Acc: 0.6126\n",
      "Epoch 42, CIFAR-10 Batch 3:  Loss:     0.6939 , Training Acc: 0.8000, Validation Acc: 0.5938\n",
      "Epoch 42, CIFAR-10 Batch 4:  Loss:     0.8139 , Training Acc: 0.7750, Validation Acc: 0.6222\n",
      "Epoch 42, CIFAR-10 Batch 5:  Loss:     0.7220 , Training Acc: 0.8500, Validation Acc: 0.6094\n",
      "Epoch 43, CIFAR-10 Batch 1:  Loss:     0.8778 , Training Acc: 0.7500, Validation Acc: 0.6046\n",
      "Epoch 43, CIFAR-10 Batch 2:  Loss:     0.7984 , Training Acc: 0.7000, Validation Acc: 0.6082\n",
      "Epoch 43, CIFAR-10 Batch 3:  Loss:     0.6320 , Training Acc: 0.9250, Validation Acc: 0.6246\n",
      "Epoch 43, CIFAR-10 Batch 4:  Loss:     0.8405 , Training Acc: 0.7500, Validation Acc: 0.6122\n",
      "Epoch 43, CIFAR-10 Batch 5:  Loss:     0.7359 , Training Acc: 0.8500, Validation Acc: 0.6202\n",
      "Epoch 44, CIFAR-10 Batch 1:  Loss:     0.8060 , Training Acc: 0.7000, Validation Acc: 0.6156\n",
      "Epoch 44, CIFAR-10 Batch 2:  Loss:     0.7926 , Training Acc: 0.7000, Validation Acc: 0.6092\n",
      "Epoch 44, CIFAR-10 Batch 3:  Loss:     0.6150 , Training Acc: 0.9000, Validation Acc: 0.6218\n",
      "Epoch 44, CIFAR-10 Batch 4:  Loss:     0.8123 , Training Acc: 0.8000, Validation Acc: 0.6108\n",
      "Epoch 44, CIFAR-10 Batch 5:  Loss:     0.7126 , Training Acc: 0.8250, Validation Acc: 0.6184\n",
      "Epoch 45, CIFAR-10 Batch 1:  Loss:     0.7633 , Training Acc: 0.8000, Validation Acc: 0.6206\n",
      "Epoch 45, CIFAR-10 Batch 2:  Loss:     0.8311 , Training Acc: 0.6500, Validation Acc: 0.5998\n",
      "Epoch 45, CIFAR-10 Batch 3:  Loss:     0.6392 , Training Acc: 0.9000, Validation Acc: 0.6132\n",
      "Epoch 45, CIFAR-10 Batch 4:  Loss:     0.8307 , Training Acc: 0.8000, Validation Acc: 0.6024\n",
      "Epoch 45, CIFAR-10 Batch 5:  Loss:     0.7274 , Training Acc: 0.9000, Validation Acc: 0.6044\n",
      "Epoch 46, CIFAR-10 Batch 1:  Loss:     0.8237 , Training Acc: 0.7000, Validation Acc: 0.6040\n",
      "Epoch 46, CIFAR-10 Batch 2:  Loss:     0.7653 , Training Acc: 0.7000, Validation Acc: 0.6114\n",
      "Epoch 46, CIFAR-10 Batch 3:  Loss:     0.6415 , Training Acc: 0.8750, Validation Acc: 0.5920\n",
      "Epoch 46, CIFAR-10 Batch 4:  Loss:     0.8450 , Training Acc: 0.7500, Validation Acc: 0.6108\n",
      "Epoch 46, CIFAR-10 Batch 5:  Loss:     0.6858 , Training Acc: 0.8250, Validation Acc: 0.6204\n",
      "Epoch 47, CIFAR-10 Batch 1:  Loss:     0.7707 , Training Acc: 0.7750, Validation Acc: 0.6122\n",
      "Epoch 47, CIFAR-10 Batch 2:  Loss:     0.8033 , Training Acc: 0.6750, Validation Acc: 0.6190\n",
      "Epoch 47, CIFAR-10 Batch 3:  Loss:     0.6274 , Training Acc: 0.8500, Validation Acc: 0.6038\n",
      "Epoch 47, CIFAR-10 Batch 4:  Loss:     0.8431 , Training Acc: 0.7500, Validation Acc: 0.6110\n",
      "Epoch 47, CIFAR-10 Batch 5:  Loss:     0.7395 , Training Acc: 0.7750, Validation Acc: 0.6154\n",
      "Epoch 48, CIFAR-10 Batch 1:  Loss:     0.7483 , Training Acc: 0.7750, Validation Acc: 0.6150\n",
      "Epoch 48, CIFAR-10 Batch 2:  Loss:     0.7648 , Training Acc: 0.7500, Validation Acc: 0.6074\n",
      "Epoch 48, CIFAR-10 Batch 3:  Loss:     0.6796 , Training Acc: 0.9000, Validation Acc: 0.5900\n",
      "Epoch 48, CIFAR-10 Batch 4:  Loss:     0.8234 , Training Acc: 0.6750, Validation Acc: 0.6090\n",
      "Epoch 48, CIFAR-10 Batch 5:  Loss:     0.6963 , Training Acc: 0.8750, Validation Acc: 0.6092\n",
      "Epoch 49, CIFAR-10 Batch 1:  Loss:     0.7215 , Training Acc: 0.7750, Validation Acc: 0.6206\n",
      "Epoch 49, CIFAR-10 Batch 2:  Loss:     0.7688 , Training Acc: 0.6750, Validation Acc: 0.6174\n",
      "Epoch 49, CIFAR-10 Batch 3:  Loss:     0.6527 , Training Acc: 0.8750, Validation Acc: 0.5882\n",
      "Epoch 49, CIFAR-10 Batch 4:  Loss:     0.7592 , Training Acc: 0.7250, Validation Acc: 0.6194\n",
      "Epoch 49, CIFAR-10 Batch 5:  Loss:     0.6658 , Training Acc: 0.8250, Validation Acc: 0.6146\n",
      "Epoch 50, CIFAR-10 Batch 1:  Loss:     0.7395 , Training Acc: 0.7750, Validation Acc: 0.6158\n",
      "Epoch 50, CIFAR-10 Batch 2:  Loss:     0.7460 , Training Acc: 0.7250, Validation Acc: 0.6166\n",
      "Epoch 50, CIFAR-10 Batch 3:  Loss:     0.6215 , Training Acc: 0.8750, Validation Acc: 0.5978\n",
      "Epoch 50, CIFAR-10 Batch 4:  Loss:     0.7743 , Training Acc: 0.8000, Validation Acc: 0.6144\n",
      "Epoch 50, CIFAR-10 Batch 5:  Loss:     0.6832 , Training Acc: 0.8500, Validation Acc: 0.6054\n"
     ]
    }
   ],
   "source": [
    "\"\"\"\n",
    "DON'T MODIFY ANYTHING IN THIS CELL\n",
    "\"\"\"\n",
    "save_model_path = './image_classification'\n",
    "\n",
    "print('Training...')\n",
    "with tf.Session() as sess:\n",
    "    # Initializing the variables\n",
    "    sess.run(tf.global_variables_initializer())\n",
    "    \n",
    "    # Training cycle\n",
    "    for epoch in range(epochs):\n",
    "        # Loop over all batches\n",
    "        n_batches = 5\n",
    "        for batch_i in range(1, n_batches + 1):\n",
    "            for batch_features, batch_labels in helper.load_preprocess_training_batch(batch_i, batch_size):\n",
    "                train_neural_network(sess, optimizer, keep_probability, batch_features, batch_labels)\n",
    "            print('Epoch {:>2}, CIFAR-10 Batch {}:  '.format(epoch + 1, batch_i), end='')\n",
    "            print_stats(sess, batch_features, batch_labels, cost, accuracy)\n",
    "            \n",
    "    # Save Model\n",
    "    saver = tf.train.Saver()\n",
    "    save_path = saver.save(sess, save_model_path)"
   ]
  },
  {
   "cell_type": "markdown",
   "metadata": {},
   "source": [
    "# Checkpoint\n",
    "The model has been saved to disk.\n",
    "## Test Model\n",
    "Test your model against the test dataset.  This will be your final accuracy. You should have an accuracy greater than 50%. If you don't, keep tweaking the model architecture and parameters."
   ]
  },
  {
   "cell_type": "code",
   "execution_count": 55,
   "metadata": {},
   "outputs": [
    {
     "name": "stdout",
     "output_type": "stream",
     "text": [
      "INFO:tensorflow:Restoring parameters from ./image_classification\n",
      "Testing Accuracy: 0.5989912974683544\n",
      "\n"
     ]
    },
    {
     "data": {
      "image/png": "[encoded data removed]",
      "text/plain": [
       "<matplotlib.figure.Figure at 0x1ac89598940>"
      ]
     },
     "metadata": {
      "image/png": {
       "height": 319,
       "width": 355
      }
     },
     "output_type": "display_data"
    }
   ],
   "source": [
    "\"\"\"\n",
    "DON'T MODIFY ANYTHING IN THIS CELL\n",
    "\"\"\"\n",
    "%matplotlib inline\n",
    "%config InlineBackend.figure_format = 'retina'\n",
    "\n",
    "import tensorflow as tf\n",
    "import pickle\n",
    "import helper\n",
    "import random\n",
    "\n",
    "# Set batch size if not already set\n",
    "try:\n",
    "    if batch_size:\n",
    "        pass\n",
    "except NameError:\n",
    "    batch_size = 64\n",
    "\n",
    "save_model_path = './image_classification'\n",
    "n_samples = 4\n",
    "top_n_predictions = 3\n",
    "\n",
    "def test_model():\n",
    "    \"\"\"\n",
    "    Test the saved model against the test dataset\n",
    "    \"\"\"\n",
    "\n",
    "    test_features, test_labels = pickle.load(open('preprocess_test.p', mode='rb'))\n",
    "    loaded_graph = tf.Graph()\n",
    "\n",
    "    with tf.Session(graph=loaded_graph) as sess:\n",
    "        # Load model\n",
    "        loader = tf.train.import_meta_graph(save_model_path + '.meta')\n",
    "        loader.restore(sess, save_model_path)\n",
    "\n",
    "        # Get Tensors from loaded model\n",
    "        loaded_x = loaded_graph.get_tensor_by_name('x:0')\n",
    "        loaded_y = loaded_graph.get_tensor_by_name('y:0')\n",
    "        loaded_keep_prob = loaded_graph.get_tensor_by_name('keep_prob:0')\n",
    "        loaded_logits = loaded_graph.get_tensor_by_name('logits:0')\n",
    "        loaded_acc = loaded_graph.get_tensor_by_name('accuracy:0')\n",
    "        \n",
    "        # Get accuracy in batches for memory limitations\n",
    "        test_batch_acc_total = 0\n",
    "        test_batch_count = 0\n",
    "        \n",
    "        for test_feature_batch, test_label_batch in helper.batch_features_labels(test_features, test_labels, batch_size):\n",
    "            test_batch_acc_total += sess.run(\n",
    "                loaded_acc,\n",
    "                feed_dict={loaded_x: test_feature_batch, loaded_y: test_label_batch, loaded_keep_prob: 1.0})\n",
    "            test_batch_count += 1\n",
    "\n",
    "        print('Testing Accuracy: {}\\n'.format(test_batch_acc_total/test_batch_count))\n",
    "\n",
    "        # Print Random Samples\n",
    "        random_test_features, random_test_labels = tuple(zip(*random.sample(list(zip(test_features, test_labels)), n_samples)))\n",
    "        random_test_predictions = sess.run(\n",
    "            tf.nn.top_k(tf.nn.softmax(loaded_logits), top_n_predictions),\n",
    "            feed_dict={loaded_x: random_test_features, loaded_y: random_test_labels, loaded_keep_prob: 1.0})\n",
    "        helper.display_image_predictions(random_test_features, random_test_labels, random_test_predictions)\n",
    "\n",
    "\n",
    "test_model()"
   ]
  },
  {
   "cell_type": "markdown",
   "metadata": {},
   "source": [
    "## Why 50-80% Accuracy?\n",
    "You might be wondering why you can't get an accuracy any higher. First things first, 50% isn't bad for a simple CNN.  Pure guessing would get you 10% accuracy. However, you might notice people are getting scores [well above 80%](http://rodrigob.github.io/are_we_there_yet/build/classification_datasets_results.html#43494641522d3130).  That's because we haven't taught you all there is to know about neural networks. We still need to cover a few more techniques.\n",
    "## Submitting This Project\n",
    "When submitting this project, make sure to run all the cells before saving the notebook.  Save the notebook file as \"dlnd_image_classification.ipynb\" and save it as a HTML file under \"File\" -> \"Download as\".  Include the \"helper.py\" and \"problem_unittests.py\" files in your submission."
   ]
  }
 ],
 "metadata": {
  "kernelspec": {
   "display_name": "Python 3",
   "language": "python",
   "name": "python3"
  },
  "language_info": {
   "codemirror_mode": {
    "name": "ipython",
    "version": 3
   },
   "file_extension": ".py",
   "mimetype": "text/x-python",
   "name": "python",
   "nbconvert_exporter": "python",
   "pygments_lexer": "ipython3",
   "version": "3.6.3"
  }
 },
 "nbformat": 4,
 "nbformat_minor": 1
}
